{
 "cells": [
  {
   "cell_type": "code",
   "execution_count": 1,
   "metadata": {
    "_cell_guid": "b1076dfc-b9ad-4769-8c92-a6c4dae69d19",
    "_uuid": "8f2839f25d086af736a60e9eeb907d3b93b6e0e5",
    "execution": {
     "iopub.execute_input": "2021-01-09T20:21:56.153344Z",
     "iopub.status.busy": "2021-01-09T20:21:56.152456Z",
     "iopub.status.idle": "2021-01-09T20:21:56.155843Z",
     "shell.execute_reply": "2021-01-09T20:21:56.155130Z"
    },
    "papermill": {
     "duration": 0.019603,
     "end_time": "2021-01-09T20:21:56.155965",
     "exception": false,
     "start_time": "2021-01-09T20:21:56.136362",
     "status": "completed"
    },
    "tags": []
   },
   "outputs": [],
   "source": [
    "# import libraries\n",
    "import numpy as np\n",
    "import pandas as pd\n",
    "import matplotlib.pyplot as plt\n",
    "plt.style.use('seaborn-darkgrid')\n",
    "plt.rcParams['figure.figsize'] = [12,5]"
   ]
  },
  {
   "cell_type": "code",
   "execution_count": 2,
   "metadata": {
    "execution": {
     "iopub.execute_input": "2021-01-09T20:21:56.182409Z",
     "iopub.status.busy": "2021-01-09T20:21:56.181688Z",
     "iopub.status.idle": "2021-01-09T20:21:56.216831Z",
     "shell.execute_reply": "2021-01-09T20:21:56.217351Z"
    },
    "papermill": {
     "duration": 0.052125,
     "end_time": "2021-01-09T20:21:56.217512",
     "exception": false,
     "start_time": "2021-01-09T20:21:56.165387",
     "status": "completed"
    },
    "tags": []
   },
   "outputs": [
    {
     "data": {
      "text/html": [
       "<div>\n",
       "<style scoped>\n",
       "    .dataframe tbody tr th:only-of-type {\n",
       "        vertical-align: middle;\n",
       "    }\n",
       "\n",
       "    .dataframe tbody tr th {\n",
       "        vertical-align: top;\n",
       "    }\n",
       "\n",
       "    .dataframe thead th {\n",
       "        text-align: right;\n",
       "    }\n",
       "</style>\n",
       "<table border=\"1\" class=\"dataframe\">\n",
       "  <thead>\n",
       "    <tr style=\"text-align: right;\">\n",
       "      <th></th>\n",
       "      <th>Hours</th>\n",
       "      <th>Scores</th>\n",
       "    </tr>\n",
       "  </thead>\n",
       "  <tbody>\n",
       "    <tr>\n",
       "      <th>0</th>\n",
       "      <td>2.5</td>\n",
       "      <td>21</td>\n",
       "    </tr>\n",
       "    <tr>\n",
       "      <th>1</th>\n",
       "      <td>5.1</td>\n",
       "      <td>47</td>\n",
       "    </tr>\n",
       "    <tr>\n",
       "      <th>2</th>\n",
       "      <td>3.2</td>\n",
       "      <td>27</td>\n",
       "    </tr>\n",
       "    <tr>\n",
       "      <th>3</th>\n",
       "      <td>8.5</td>\n",
       "      <td>75</td>\n",
       "    </tr>\n",
       "    <tr>\n",
       "      <th>4</th>\n",
       "      <td>3.5</td>\n",
       "      <td>30</td>\n",
       "    </tr>\n",
       "    <tr>\n",
       "      <th>5</th>\n",
       "      <td>1.5</td>\n",
       "      <td>20</td>\n",
       "    </tr>\n",
       "    <tr>\n",
       "      <th>6</th>\n",
       "      <td>9.2</td>\n",
       "      <td>88</td>\n",
       "    </tr>\n",
       "    <tr>\n",
       "      <th>7</th>\n",
       "      <td>5.5</td>\n",
       "      <td>60</td>\n",
       "    </tr>\n",
       "    <tr>\n",
       "      <th>8</th>\n",
       "      <td>8.3</td>\n",
       "      <td>81</td>\n",
       "    </tr>\n",
       "    <tr>\n",
       "      <th>9</th>\n",
       "      <td>2.7</td>\n",
       "      <td>25</td>\n",
       "    </tr>\n",
       "    <tr>\n",
       "      <th>10</th>\n",
       "      <td>7.7</td>\n",
       "      <td>85</td>\n",
       "    </tr>\n",
       "    <tr>\n",
       "      <th>11</th>\n",
       "      <td>5.9</td>\n",
       "      <td>62</td>\n",
       "    </tr>\n",
       "    <tr>\n",
       "      <th>12</th>\n",
       "      <td>4.5</td>\n",
       "      <td>41</td>\n",
       "    </tr>\n",
       "    <tr>\n",
       "      <th>13</th>\n",
       "      <td>3.3</td>\n",
       "      <td>42</td>\n",
       "    </tr>\n",
       "    <tr>\n",
       "      <th>14</th>\n",
       "      <td>1.1</td>\n",
       "      <td>17</td>\n",
       "    </tr>\n",
       "    <tr>\n",
       "      <th>15</th>\n",
       "      <td>8.9</td>\n",
       "      <td>95</td>\n",
       "    </tr>\n",
       "    <tr>\n",
       "      <th>16</th>\n",
       "      <td>2.5</td>\n",
       "      <td>30</td>\n",
       "    </tr>\n",
       "    <tr>\n",
       "      <th>17</th>\n",
       "      <td>1.9</td>\n",
       "      <td>24</td>\n",
       "    </tr>\n",
       "    <tr>\n",
       "      <th>18</th>\n",
       "      <td>6.1</td>\n",
       "      <td>67</td>\n",
       "    </tr>\n",
       "    <tr>\n",
       "      <th>19</th>\n",
       "      <td>7.4</td>\n",
       "      <td>69</td>\n",
       "    </tr>\n",
       "    <tr>\n",
       "      <th>20</th>\n",
       "      <td>2.7</td>\n",
       "      <td>30</td>\n",
       "    </tr>\n",
       "    <tr>\n",
       "      <th>21</th>\n",
       "      <td>4.8</td>\n",
       "      <td>54</td>\n",
       "    </tr>\n",
       "    <tr>\n",
       "      <th>22</th>\n",
       "      <td>3.8</td>\n",
       "      <td>35</td>\n",
       "    </tr>\n",
       "    <tr>\n",
       "      <th>23</th>\n",
       "      <td>6.9</td>\n",
       "      <td>76</td>\n",
       "    </tr>\n",
       "    <tr>\n",
       "      <th>24</th>\n",
       "      <td>7.8</td>\n",
       "      <td>86</td>\n",
       "    </tr>\n",
       "  </tbody>\n",
       "</table>\n",
       "</div>"
      ],
      "text/plain": [
       "    Hours  Scores\n",
       "0     2.5      21\n",
       "1     5.1      47\n",
       "2     3.2      27\n",
       "3     8.5      75\n",
       "4     3.5      30\n",
       "5     1.5      20\n",
       "6     9.2      88\n",
       "7     5.5      60\n",
       "8     8.3      81\n",
       "9     2.7      25\n",
       "10    7.7      85\n",
       "11    5.9      62\n",
       "12    4.5      41\n",
       "13    3.3      42\n",
       "14    1.1      17\n",
       "15    8.9      95\n",
       "16    2.5      30\n",
       "17    1.9      24\n",
       "18    6.1      67\n",
       "19    7.4      69\n",
       "20    2.7      30\n",
       "21    4.8      54\n",
       "22    3.8      35\n",
       "23    6.9      76\n",
       "24    7.8      86"
      ]
     },
     "execution_count": 2,
     "metadata": {},
     "output_type": "execute_result"
    }
   ],
   "source": [
    "# read data\n",
    "data = pd.read_csv('../input/studentscores/student-scores.csv')\n",
    "data"
   ]
  },
  {
   "cell_type": "code",
   "execution_count": 3,
   "metadata": {
    "execution": {
     "iopub.execute_input": "2021-01-09T20:21:56.238355Z",
     "iopub.status.busy": "2021-01-09T20:21:56.237320Z",
     "iopub.status.idle": "2021-01-09T20:21:56.258735Z",
     "shell.execute_reply": "2021-01-09T20:21:56.259222Z"
    },
    "papermill": {
     "duration": 0.033329,
     "end_time": "2021-01-09T20:21:56.259375",
     "exception": false,
     "start_time": "2021-01-09T20:21:56.226046",
     "status": "completed"
    },
    "tags": []
   },
   "outputs": [
    {
     "data": {
      "text/html": [
       "<div>\n",
       "<style scoped>\n",
       "    .dataframe tbody tr th:only-of-type {\n",
       "        vertical-align: middle;\n",
       "    }\n",
       "\n",
       "    .dataframe tbody tr th {\n",
       "        vertical-align: top;\n",
       "    }\n",
       "\n",
       "    .dataframe thead th {\n",
       "        text-align: right;\n",
       "    }\n",
       "</style>\n",
       "<table border=\"1\" class=\"dataframe\">\n",
       "  <thead>\n",
       "    <tr style=\"text-align: right;\">\n",
       "      <th></th>\n",
       "      <th>Hours</th>\n",
       "      <th>Scores</th>\n",
       "    </tr>\n",
       "  </thead>\n",
       "  <tbody>\n",
       "    <tr>\n",
       "      <th>count</th>\n",
       "      <td>25.000000</td>\n",
       "      <td>25.000000</td>\n",
       "    </tr>\n",
       "    <tr>\n",
       "      <th>mean</th>\n",
       "      <td>5.012000</td>\n",
       "      <td>51.480000</td>\n",
       "    </tr>\n",
       "    <tr>\n",
       "      <th>std</th>\n",
       "      <td>2.525094</td>\n",
       "      <td>25.286887</td>\n",
       "    </tr>\n",
       "    <tr>\n",
       "      <th>min</th>\n",
       "      <td>1.100000</td>\n",
       "      <td>17.000000</td>\n",
       "    </tr>\n",
       "    <tr>\n",
       "      <th>25%</th>\n",
       "      <td>2.700000</td>\n",
       "      <td>30.000000</td>\n",
       "    </tr>\n",
       "    <tr>\n",
       "      <th>50%</th>\n",
       "      <td>4.800000</td>\n",
       "      <td>47.000000</td>\n",
       "    </tr>\n",
       "    <tr>\n",
       "      <th>75%</th>\n",
       "      <td>7.400000</td>\n",
       "      <td>75.000000</td>\n",
       "    </tr>\n",
       "    <tr>\n",
       "      <th>max</th>\n",
       "      <td>9.200000</td>\n",
       "      <td>95.000000</td>\n",
       "    </tr>\n",
       "  </tbody>\n",
       "</table>\n",
       "</div>"
      ],
      "text/plain": [
       "           Hours     Scores\n",
       "count  25.000000  25.000000\n",
       "mean    5.012000  51.480000\n",
       "std     2.525094  25.286887\n",
       "min     1.100000  17.000000\n",
       "25%     2.700000  30.000000\n",
       "50%     4.800000  47.000000\n",
       "75%     7.400000  75.000000\n",
       "max     9.200000  95.000000"
      ]
     },
     "execution_count": 3,
     "metadata": {},
     "output_type": "execute_result"
    }
   ],
   "source": [
    "# understand data\n",
    "data.describe()"
   ]
  },
  {
   "cell_type": "code",
   "execution_count": 4,
   "metadata": {
    "execution": {
     "iopub.execute_input": "2021-01-09T20:21:56.281441Z",
     "iopub.status.busy": "2021-01-09T20:21:56.280392Z",
     "iopub.status.idle": "2021-01-09T20:21:56.538691Z",
     "shell.execute_reply": "2021-01-09T20:21:56.539166Z"
    },
    "papermill": {
     "duration": 0.271009,
     "end_time": "2021-01-09T20:21:56.539316",
     "exception": false,
     "start_time": "2021-01-09T20:21:56.268307",
     "status": "completed"
    },
    "tags": []
   },
   "outputs": [
    {
     "data": {
      "text/plain": [
       "Text(0, 0.5, 'Scores')"
      ]
     },
     "execution_count": 4,
     "metadata": {},
     "output_type": "execute_result"
    },
    {
     "data": {
      "image/png": "[encoded data removed]",
      "text/plain": [
       "<Figure size 864x360 with 1 Axes>"
      ]
     },
     "metadata": {},
     "output_type": "display_data"
    }
   ],
   "source": [
    "# visualize data\n",
    "plt.scatter(data['Hours'],data['Scores'])\n",
    "plt.xlabel('Hours of studying')\n",
    "plt.ylabel('Scores')"
   ]
  },
  {
   "cell_type": "markdown",
   "metadata": {
    "papermill": {
     "duration": 0.009874,
     "end_time": "2021-01-09T20:21:56.559369",
     "exception": false,
     "start_time": "2021-01-09T20:21:56.549495",
     "status": "completed"
    },
    "tags": []
   },
   "source": [
    "# Using numpy and custom gradient descent"
   ]
  },
  {
   "cell_type": "code",
   "execution_count": 5,
   "metadata": {
    "execution": {
     "iopub.execute_input": "2021-01-09T20:21:56.584291Z",
     "iopub.status.busy": "2021-01-09T20:21:56.583204Z",
     "iopub.status.idle": "2021-01-09T20:22:06.131639Z",
     "shell.execute_reply": "2021-01-09T20:22:06.132316Z"
    },
    "papermill": {
     "duration": 9.56297,
     "end_time": "2021-01-09T20:22:06.132475",
     "exception": false,
     "start_time": "2021-01-09T20:21:56.569505",
     "status": "completed"
    },
    "tags": []
   },
   "outputs": [
    {
     "name": "stdout",
     "output_type": "stream",
     "text": [
      "Parameters: [9.77581184 2.48362105], calculated after 228035 itarations\n"
     ]
    }
   ],
   "source": [
    "param = np.array([np.random.random(), np.random.random()], dtype=float)   # array to store parameters a0, a1 in y = a0 + a1.x\n",
    "parameters = []\n",
    "learning_rate = 0.0001\n",
    "threshold = 0.00001   # threshold for error\n",
    "x, y = np.array(data['Hours']), np.array(data['Scores'])\n",
    "x = np.concatenate((x, np.ones(len(x))), axis = 0).reshape(2, len(x))\n",
    "iterations = 0\n",
    "\n",
    "while True:\n",
    "    if iterations%100 == 0:\n",
    "        parameters.append([param[0],param[1]])\n",
    "    yd = np.dot(param.T, x)   # predicted y\n",
    "    delta = np.subtract(y, yd).mean()   # error\n",
    "    if delta <= threshold:\n",
    "        break;\n",
    "    delta_m = -2*np.multiply(np.subtract(y, yd),x[0]).mean()\n",
    "    delta_c = -2*np.subtract(y, yd).mean()\n",
    "    param[0] = param[0] - delta_m*learning_rate   # update parameters\n",
    "    param[1] = param[1] - delta_c*learning_rate   # update parameters\n",
    "    iterations += 1\n",
    "\n",
    "print('Parameters: {}, calculated after {} itarations'.format(param,iterations))"
   ]
  },
  {
   "cell_type": "code",
   "execution_count": 6,
   "metadata": {
    "execution": {
     "iopub.execute_input": "2021-01-09T20:22:06.172936Z",
     "iopub.status.busy": "2021-01-09T20:22:06.167797Z",
     "iopub.status.idle": "2021-01-09T20:22:06.390458Z",
     "shell.execute_reply": "2021-01-09T20:22:06.391000Z"
    },
    "papermill": {
     "duration": 0.247831,
     "end_time": "2021-01-09T20:22:06.391152",
     "exception": false,
     "start_time": "2021-01-09T20:22:06.143321",
     "status": "completed"
    },
    "tags": []
   },
   "outputs": [
    {
     "name": "stdout",
     "output_type": "stream",
     "text": [
      "Predicted Score with 9.25 hrs of studying: 92.90988058813898\n"
     ]
    },
    {
     "data": {
      "text/plain": [
       "<matplotlib.legend.Legend at 0x7f1b182ce290>"
      ]
     },
     "execution_count": 6,
     "metadata": {},
     "output_type": "execute_result"
    },
    {
     "data": {
      "image/png": "[encoded data removed]",
      "text/plain": [
       "<Figure size 864x360 with 1 Axes>"
      ]
     },
     "metadata": {},
     "output_type": "display_data"
    }
   ],
   "source": [
    "# plot lines for visualization\n",
    "\n",
    "plt.figure(figsize=(12, 5))\n",
    "plt.xlabel('Hours of studying')\n",
    "plt.ylabel('Scores')\n",
    "\n",
    "limit = min(int(iterations*0.01), 10)\n",
    "plt.plot(np.arange(0,11), np.arange(0,11)*parameters[0][0] + parameters[0][1], 'darkslategray', label='Intermediate Lines')\n",
    "for par in parameters[0:limit]:\n",
    "    plt.plot(np.arange(0,11), np.arange(0,11)*par[0] + par[1], 'darkslategray')\n",
    "\n",
    "plt.plot(np.arange(0,11), np.arange(0,11)*param[0] + param[1], 'r', label='Final Line')\n",
    "plt.scatter(x[0], y, label='Data points')\n",
    "\n",
    "predict_for = 9.25\n",
    "plt.plot(predict_for, param[0]*predict_for + param[1], 'red', marker='^', markersize=10)\n",
    "print('Predicted Score with {} hrs of studying: {}'.format(predict_for, param[0]*predict_for + param[1]))\n",
    "\n",
    "plt.legend()"
   ]
  },
  {
   "cell_type": "markdown",
   "metadata": {
    "papermill": {
     "duration": 0.013323,
     "end_time": "2021-01-09T20:22:06.418301",
     "exception": false,
     "start_time": "2021-01-09T20:22:06.404978",
     "status": "completed"
    },
    "tags": []
   },
   "source": [
    "# Using sklearn"
   ]
  },
  {
   "cell_type": "code",
   "execution_count": 7,
   "metadata": {
    "execution": {
     "iopub.execute_input": "2021-01-09T20:22:06.451424Z",
     "iopub.status.busy": "2021-01-09T20:22:06.450741Z",
     "iopub.status.idle": "2021-01-09T20:22:07.651784Z",
     "shell.execute_reply": "2021-01-09T20:22:07.652316Z"
    },
    "papermill": {
     "duration": 1.22067,
     "end_time": "2021-01-09T20:22:07.652500",
     "exception": false,
     "start_time": "2021-01-09T20:22:06.431830",
     "status": "completed"
    },
    "tags": []
   },
   "outputs": [],
   "source": [
    "from sklearn.linear_model import LinearRegression"
   ]
  },
  {
   "cell_type": "code",
   "execution_count": 8,
   "metadata": {
    "execution": {
     "iopub.execute_input": "2021-01-09T20:22:07.693276Z",
     "iopub.status.busy": "2021-01-09T20:22:07.692243Z",
     "iopub.status.idle": "2021-01-09T20:22:07.732483Z",
     "shell.execute_reply": "2021-01-09T20:22:07.731759Z"
    },
    "papermill": {
     "duration": 0.063265,
     "end_time": "2021-01-09T20:22:07.732604",
     "exception": false,
     "start_time": "2021-01-09T20:22:07.669339",
     "status": "completed"
    },
    "tags": []
   },
   "outputs": [
    {
     "name": "stdout",
     "output_type": "stream",
     "text": [
      "Parameters: 9.775803390787472, 2.483673405373196\n",
      "Predicted Score with 9.25 hrs of studying: 92.90985477015731\n"
     ]
    }
   ],
   "source": [
    "lr = LinearRegression()\n",
    "lr.fit(np.array(data['Hours']).reshape(-1, 1), data['Scores'])\n",
    "print('Parameters: {}, {}'.format(lr.coef_[0], lr.intercept_))\n",
    "\n",
    "predict_x = 9.25\n",
    "print('Predicted Score with {} hrs of studying: {}'.format(predict_x, lr.predict(np.array(predict_x).reshape(-1,1))[0]))"
   ]
  }
 ],
 "metadata": {
  "kernelspec": {
   "display_name": "Python 3",
   "language": "python",
   "name": "python3"
  },
  "language_info": {
   "codemirror_mode": {
    "name": "ipython",
    "version": 3
   },
   "file_extension": ".py",
   "mimetype": "text/x-python",
   "name": "python",
   "nbconvert_exporter": "python",
   "pygments_lexer": "ipython3",
   "version": "3.7.6"
  },
  "papermill": {
   "duration": 16.752609,
   "end_time": "2021-01-09T20:22:07.856030",
   "environment_variables": {},
   "exception": null,
   "input_path": "__notebook__.ipynb",
   "output_path": "__notebook__.ipynb",
   "parameters": {},
   "start_time": "2021-01-09T20:21:51.103421",
   "version": "2.1.0"
  }
 },
 "nbformat": 4,
 "nbformat_minor": 4
}
